{
 "cells": [
  {
   "cell_type": "code",
   "execution_count": 35,
   "metadata": {},
   "outputs": [],
   "source": [
    "from langchain.schema import Document\n",
    "from langchain.embeddings.huggingface import HuggingFaceEmbeddings\n",
    "from langchain.vectorstores import FAISS"
   ]
  },
  {
   "cell_type": "code",
   "execution_count": 15,
   "metadata": {},
   "outputs": [],
   "source": [
    "from langchain.document_loaders import TextLoader\n",
    "from langchain.text_splitter import CharacterTextSplitter"
   ]
  },
  {
   "cell_type": "code",
   "execution_count": 3,
   "metadata": {},
   "outputs": [
    {
     "name": "stderr",
     "output_type": "stream",
     "text": [
      "/Users/kmad/dev/voicesearch/venv/lib/python3.11/site-packages/tqdm/auto.py:21: TqdmWarning: IProgress not found. Please update jupyter and ipywidgets. See https://ipywidgets.readthedocs.io/en/stable/user_install.html\n",
      "  from .autonotebook import tqdm as notebook_tqdm\n"
     ]
    }
   ],
   "source": [
    "embeddings = HuggingFaceEmbeddings(model_name=\"all-MiniLM-L6-v2\")"
   ]
  },
  {
   "cell_type": "code",
   "execution_count": 32,
   "metadata": {},
   "outputs": [],
   "source": [
    "import hashlib\n",
    "import os\n",
    "import json\n",
    "\n",
    "list_of_documents = []\n",
    "\n",
    "# Load speaker map from speaker_map.json\n",
    "with open('speaker_map.json', 'r') as sm:\n",
    "    speaker_map = json.load(sm)\n",
    "\n",
    "\n",
    "for root, dirs, files in os.walk(\".\"):\n",
    "    for file in files:\n",
    "        if file.endswith(\"TRANSCRIPT.txt\"):\n",
    "            loader = TextLoader(file_path=os.path.join(root, file))\n",
    "            documents = loader.load()\n",
    "            text_splitter = CharacterTextSplitter(chunk_size=1000, chunk_overlap=0)\n",
    "            docs = text_splitter.split_documents(documents)\n",
    "            full_path = os.path.join(root, file)\n",
    "            # Add metadata\n",
    "            for doc in docs:\n",
    "                run_id = full_path.split(\"/\")[1]\n",
    "                speaker = file.split(\"-\")[0]\n",
    "                \n",
    "                speaker_id = str(int(hashlib.sha1(f\"{run_id}_{speaker}\".encode()).hexdigest(), 16) % (10 ** 8))\n",
    "                speaker_name = speaker_map.get(speaker_id, \"Unknown\")\n",
    "\n",
    "                doc.metadata[\"speaker\"] = speaker\n",
    "                doc.metadata[\"run_id\"] = run_id\n",
    "                doc.metadata[\"speaker\"] = speaker_name\n",
    "                list_of_documents.append(doc)\n"
   ]
  },
  {
   "cell_type": "code",
   "execution_count": 36,
   "metadata": {},
   "outputs": [
    {
     "name": "stdout",
     "output_type": "stream",
     "text": [
      "Content: Hey Brian. Nice to talk to you. Yeah the recent run. I mean let's let's go through it. The story is completely unchanged here for Bitcoin. Right. Every four years Bitcoin the fraud the leverage it gets it gets completely wiped out. Twenty twenty two was an awful year. I mean why is Bitcoin rallying. Well there's no more sellers. Right. It's quite simple. The supply held for one year two years and three years is at all time high. Sixty seven fifty three and 40 percent. Right. It's a it's a completely inelastic supply relative to demand. And there's a growing group of price agnostic accumulators that buy every single day. It's that simple. It's a matter of flows. Certainly our equity markets and bond markets and volatility. Do they play. Do they play into this. Of course they do. And Bitcoin is increasingly a macro asset. But what S.P. S.V.B. showed with the deep hacking of U.S. D.C. showed what the Fed's B.T. F.P. program. Yeah what is that.I can say that, but how big of a deal is that? Well, I wouldn't go that far because they can't create another Bitcoin because... No that's that's OK. I think ultimately the story here is that big wins rallying. I mean along with other cryptos. Right. But if you're looking the other cryptos are bleeding relative to Bitcoin and that wasn't the story during the bull run for much of 2022. These are bleeding out relative to Bitcoin as Bitcoin is pumping here. Something is happening. And what's happening is people realize they want to hold something that they don't trust anybody. They don't want to trust a stable coin. They don't want to trust a crypto protocol or a developer. They want to hold a decentralized monetary asset with no counterparty risk. That's the story. That's been the story since 2010. And then more people are just coming to realize I got. I almost did, except gold, unfortunately, you can't send over a smartphone in 30 seconds within the world for about a half a penny, right? So that's why in a digital age, Bitcoin wins. And not to have a gold vs. Bitcoin debate, because we could be here for hours. popping their heads out. The reason that gold, right, the reason that 7 billion people use fiat currency today is because gold inherently has trust in that loop, right? You have to trust a bank, you have to trust a central bank, you have to trust intermediary. A gold-backed token, right, is just, it's an oxymoron. There's nothing backing it except trust, right? So with Bitcoin, you don't have to trust anybody. You verify, right? That's the breakthrough here. That's the breakthrough of what Bitcoin is. And people are just, you know, slow to understand this. It's fine, it's an education thing, but that's what's unfolding. So Bitcoin, where is it gonna go next week, tomorrow? I don't know. Next month? No one knows. But the story here, it's a decade-long story, it's gonna be true for the next two. It's gonna be true for the next century., Metadata: {'source': './b31cb430-a9cf-44a0-b58b-123e47a8deb8/B-TRANSCRIPT.txt', 'speaker': 'Dylan Leclair', 'run_id': 'b31cb430-a9cf-44a0-b58b-123e47a8deb8'}, Score: 1.1634209156036377\n",
      "Content: interesting too because since 2007 say, it's become very evident that there's been a distortion between the real economy and markets and asset prices and if they have to go this route that James talking about, that's only gonna get worse and so you talk about productivity losses and business dynamism that you're kind of referring to. If they keep going this route, we're not gonna improve in the real economy and we're not actually gonna see real economic growth like we want to see. So we got like five minutes left and let's just tie it back to Bitcoin all right.so yeah. Yeah no I think you know we try to find historical parallels to what we're experiencing today just to try to learn about where we might be going. 1940s Lynn Alden's made a lot of great comparisons there given the debt levels. 1970s comes to mind it's the last time we've seen any kind of sustained consumer price inflation but the fact of the matter is we've never had Bitcoin exist and like we have today a decentralized sound money. So how does Bitcoin throw a wrench into everything? You know Dylan I think one of the first pieces you wrote was you described it as a black hole and that's what I think about so why don't you take it real quick man., Metadata: {'source': './f8c9f95b-afa0-4ee9-843a-da6ca256d883/A-TRANSCRIPT.txt', 'speaker': 'Unknown', 'run_id': 'f8c9f95b-afa0-4ee9-843a-da6ca256d883'}, Score: 1.2838194370269775\n",
      "Content: interesting too because since 2007 say, it's become very evident that there's been a distortion between the real economy and markets and asset prices and if they have to go this route that James talking about, that's only gonna get worse and so you talk about productivity losses and business dynamism that you're kind of referring to. If they keep going this route, we're not gonna improve in the real economy and we're not actually gonna see real economic growth like we want to see. So we got like five minutes left and let's just tie it back to Bitcoin all right.so yeah. Yeah no I think you know we try to find historical parallels to what we're experiencing today just to try to learn about where we might be going. 1940s Lynn Alden's made a lot of great comparisons there given the debt levels. 1970s comes to mind it's the last time we've seen any kind of sustained consumer price inflation but the fact of the matter is we've never had Bitcoin exist and like we have today a decentralized sound money. So how does Bitcoin throw a wrench into everything? You know Dylan I think one of the first pieces you wrote was you described it as a black hole and that's what I think about so why don't you take it real quick man., Metadata: {'source': './a8bb2bc3-3596-4db9-b0e4-462346f07a8a/A-TRANSCRIPT.txt', 'speaker': 'Unknown', 'run_id': 'a8bb2bc3-3596-4db9-b0e4-462346f07a8a'}, Score: 1.2838194370269775\n",
      "Content: to continue the conversation now with our next guest. He is the head of market research for Bitcoin Magazine Pro. Please welcome Dylan Leclerc. Dylan, good to have you on and just for the folks interested in Dylan, you can go to bitcoinmagazinepro.com to learn more. But Dylan, welcome to the show.I think so. I mean, you're one of the more Bitcoin influencers, most popular Bitcoin influencers out there. So excited to get your thoughts. I know that you've been making the rounds saying that if this is not just an FTX fiasco or a Bitcoin downfall, but it's a bursting of the everything bubble. Tell us your your thoughts here., Metadata: {'source': './f626176d-63de-4c16-9edc-ff9e9a2b2115/A-TRANSCRIPT.txt', 'speaker': 'Podcast Host', 'run_id': 'f626176d-63de-4c16-9edc-ff9e9a2b2115'}, Score: 1.2978092432022095\n"
     ]
    }
   ],
   "source": [
    "\n",
    "db = FAISS.from_documents(list_of_documents, embeddings)\n",
    "results_with_scores = db.similarity_search_with_score(\"What are drivers of Bitcoin adoption\")\n",
    "for doc, score in results_with_scores:\n",
    "    print(f\"Content: {doc.page_content}, Metadata: {doc.metadata}, Score: {score}\")"
   ]
  }
 ],
 "metadata": {
  "kernelspec": {
   "display_name": "venv",
   "language": "python",
   "name": "python3"
  },
  "language_info": {
   "codemirror_mode": {
    "name": "ipython",
    "version": 3
   },
   "file_extension": ".py",
   "mimetype": "text/x-python",
   "name": "python",
   "nbconvert_exporter": "python",
   "pygments_lexer": "ipython3",
   "version": "3.11.4"
  },
  "orig_nbformat": 4
 },
 "nbformat": 4,
 "nbformat_minor": 2
}
